{
  "cells": [
    {
      "attachments": {},
      "cell_type": "markdown",
      "metadata": {},
      "source": [
        "# Setup"
      ]
    },
    {
      "cell_type": "code",
      "execution_count": null,
      "metadata": {},
      "outputs": [],
      "source": []
    },
    {
      "attachments": {},
      "cell_type": "markdown",
      "metadata": {},
      "source": [
        "## Imports"
      ]
    },
    {
      "cell_type": "code",
      "execution_count": null,
      "metadata": {},
      "outputs": [],
      "source": [
        "from importlib.metadata import version\n",
        "import matplotlib.pyplot as plt\n",
        "import numpy as np\n",
        "from platform import python_version\n",
        "import tensorflow as tf\n",
        "from tensorflow.python.client import device_lib\n",
        "import wandb"
      ]
    },
    {
      "cell_type": "code",
      "execution_count": null,
      "metadata": {},
      "outputs": [],
      "source": [
        "def printHeader(str):\n",
        "  print(str, \"-\"*len(str), sep=\"\\n\")\n",
        "\n",
        "printHeader(\"Versions\")\n",
        "\n",
        "print(f\"Python: {python_version()}\")\n",
        "for module in [\"matplotlib\", \"numpy\", \"tensorflow\", \"wandb\"]:\n",
        "  print(f\"{module}: {version(module)}\")"
      ]
    },
    {
      "attachments": {},
      "cell_type": "markdown",
      "metadata": {},
      "source": [
        "## Variables"
      ]
    },
    {
      "attachments": {},
      "cell_type": "markdown",
      "metadata": {},
      "source": [
        "### Weights & Biases"
      ]
    },
    {
      "cell_type": "code",
      "execution_count": null,
      "metadata": {},
      "outputs": [],
      "source": [
        "wandb.login()"
      ]
    },
    {
      "cell_type": "code",
      "execution_count": null,
      "metadata": {},
      "outputs": [],
      "source": [
        "wandb.init(\n",
        "  # TODO: add project name\n",
        "  # project=\"\",\n",
        "  config={\n",
        "    \"epochs\": 10,\n",
        "    \"batch_size\": 256,\n",
        "  }\n",
        ")\n",
        "\n",
        "config = wandb.config"
      ]
    },
    {
      "attachments": {},
      "cell_type": "markdown",
      "metadata": {},
      "source": [
        "### Dangerous Parameters\n",
        "\n",
        "These may crash your kernel/device depending on your available resources."
      ]
    },
    {
      "cell_type": "code",
      "execution_count": null,
      "metadata": {},
      "outputs": [],
      "source": [
        "\"\"\"\n",
        "Enables a *lot* of parallelism.\n",
        "Speeds preprocessing & modelling up exponentially on a powerful device,\n",
        "but may not work well otherwise.\n",
        "\"\"\"\n",
        "optimize = True"
      ]
    },
    {
      "attachments": {},
      "cell_type": "markdown",
      "metadata": {},
      "source": [
        "#### For comparison, this notebook was run on the following devices:"
      ]
    },
    {
      "cell_type": "code",
      "execution_count": null,
      "metadata": {},
      "outputs": [],
      "source": [
        "for local_device in device_lib.list_local_devices():\n",
        "  print(local_device)"
      ]
    },
    {
      "attachments": {},
      "cell_type": "markdown",
      "metadata": {},
      "source": [
        "### Random\n",
        "\n",
        "For deterministic results"
      ]
    },
    {
      "cell_type": "code",
      "execution_count": null,
      "metadata": {},
      "outputs": [],
      "source": [
        "def setRng():\n",
        "  global rng\n",
        "  rng = np.random.default_rng(2101432)\n",
        "  return rng\n",
        "\n",
        "rng = setRng()\n",
        "\n",
        "def randint():\n",
        "  return rng.integers(65535)"
      ]
    },
    {
      "attachments": {},
      "cell_type": "markdown",
      "metadata": {},
      "source": [
        "### Optimization"
      ]
    },
    {
      "cell_type": "code",
      "execution_count": null,
      "metadata": {},
      "outputs": [],
      "source": [
        "def getVisualize():\n",
        "  \"\"\"\n",
        "  Check whether or not to run visualizations\n",
        "\n",
        "  Does not opt out of Evaluation visualizations\n",
        "  \"\"\"\n",
        "  try:\n",
        "    return visualize\n",
        "  except NameError:\n",
        "    return True\n",
        "\n",
        "def passThrough(x):\n",
        "  return x\n",
        "\n",
        "def mapOptimized(ds: tf.data.Dataset, *args, **kwargs):\n",
        "  return ds.map(*args, **kwargs, num_parallel_calls=tf.data.AUTOTUNE)\n",
        "def mapUnoptimized(ds: tf.data.Dataset, *args, **kwargs):\n",
        "  return ds.map(*args, **kwargs)\n",
        "map = mapOptimized if optimize else mapUnoptimized\n",
        "\n",
        "def batch(ds: tf.data.Dataset, batch_size: int=config[\"batch_size\"], *args, **kwargs):\n",
        "  return ds.batch(batch_size, *args, **kwargs)\n",
        "def cacheOptimized(ds: tf.data.Dataset, *args, **kwargs):\n",
        "  return ds.cache(*args, **kwargs)\n",
        "cache = cacheOptimized if optimize else passThrough\n",
        "def prefetchOptimized(ds: tf.data.Dataset, *args, **kwargs):\n",
        "  return ds.prefetch(tf.data.AUTOTUNE, *args, **kwargs)\n",
        "prefetch = prefetchOptimized if optimize else passThrough"
      ]
    },
    {
      "attachments": {},
      "cell_type": "markdown",
      "metadata": {},
      "source": [
        "### Dataset"
      ]
    },
    {
      "cell_type": "code",
      "execution_count": null,
      "metadata": {},
      "outputs": [],
      "source": [
        "ds_seed = randint()"
      ]
    },
    {
      "cell_type": "code",
      "execution_count": null,
      "metadata": {},
      "outputs": [],
      "source": [
        "ds = tf.keras.utils. # TODO: add dataset"
      ]
    },
    {
      "attachments": {},
      "cell_type": "markdown",
      "metadata": {},
      "source": [
        "### Helpers"
      ]
    },
    {
      "cell_type": "code",
      "execution_count": null,
      "metadata": {},
      "outputs": [],
      "source": [
        "# Scaling Factor for Visualizations\n",
        "sf = 2.5\n",
        "\n",
        "def extractX(x, y):\n",
        "  return x\n",
        "\n",
        "def extractY(x, y):\n",
        "  return y"
      ]
    },
    {
      "attachments": {},
      "cell_type": "markdown",
      "metadata": {},
      "source": [
        "# Exploration"
      ]
    },
    {
      "attachments": {},
      "cell_type": "markdown",
      "metadata": {},
      "source": [
        "## Metadata"
      ]
    },
    {
      "cell_type": "code",
      "execution_count": null,
      "metadata": {},
      "outputs": [],
      "source": []
    },
    {
      "attachments": {},
      "cell_type": "markdown",
      "metadata": {},
      "source": [
        "## Central Tendency\n",
        "\n",
        "Mean & Median"
      ]
    },
    {
      "cell_type": "code",
      "execution_count": null,
      "metadata": {},
      "outputs": [],
      "source": []
    },
    {
      "attachments": {},
      "cell_type": "markdown",
      "metadata": {},
      "source": [
        "## Outliers"
      ]
    },
    {
      "cell_type": "code",
      "execution_count": null,
      "metadata": {},
      "outputs": [],
      "source": []
    },
    {
      "attachments": {},
      "cell_type": "markdown",
      "metadata": {},
      "source": [
        "### UMAP\n",
        "\n",
        "Uniform Manifold Approximation and Projection"
      ]
    },
    {
      "attachments": {},
      "cell_type": "markdown",
      "metadata": {},
      "source": [
        "#### Visualize\n",
        "\n",
        "Interactive Plot"
      ]
    },
    {
      "attachments": {},
      "cell_type": "markdown",
      "metadata": {},
      "source": [
        "# Pre-processing"
      ]
    },
    {
      "cell_type": "code",
      "execution_count": null,
      "metadata": {},
      "outputs": [],
      "source": []
    },
    {
      "attachments": {},
      "cell_type": "markdown",
      "metadata": {},
      "source": [
        "## Data Augmentation"
      ]
    },
    {
      "attachments": {},
      "cell_type": "markdown",
      "metadata": {},
      "source": [
        "### Oversampling"
      ]
    },
    {
      "cell_type": "code",
      "execution_count": null,
      "metadata": {},
      "outputs": [],
      "source": []
    },
    {
      "attachments": {},
      "cell_type": "markdown",
      "metadata": {},
      "source": [
        "## Train - Valid -Test\n",
        "\n",
        "Also, optimize for performance."
      ]
    },
    {
      "attachments": {},
      "cell_type": "markdown",
      "metadata": {},
      "source": [
        "### Training Augmentations"
      ]
    },
    {
      "cell_type": "code",
      "execution_count": null,
      "metadata": {},
      "outputs": [],
      "source": []
    },
    {
      "attachments": {},
      "cell_type": "markdown",
      "metadata": {},
      "source": [
        "### Split"
      ]
    },
    {
      "cell_type": "code",
      "execution_count": null,
      "metadata": {},
      "outputs": [],
      "source": [
        "split_shuffle_seed = randint()"
      ]
    },
    {
      "cell_type": "code",
      "execution_count": null,
      "metadata": {},
      "outputs": [],
      "source": [
        "valid_pct = .1\n",
        "test_pct = .1\n",
        "\n",
        "size = len(ds)\n",
        "valid_size = np.round(valid_pct * size)\n",
        "test_size = np.round(test_pct * size)\n",
        "train_size = size - valid_size - test_size\n",
        "\n",
        "ds_unbatched = ds.unbatch().shuffle(size, split_shuffle_seed)\n",
        "train_ds = ds_unbatched.take(train_size)\n",
        "\n",
        "valid_ds = ds_unbatched.skip(train_size).take(valid_size)\n",
        "test_ds = ds_unbatched.skip(train_size).skip(valid_size)\n",
        "\n",
        "if getVisualize():\n",
        "  print(f\"Train Size: {train_size}\")\n",
        "  print(f\"Valid Size: {valid_size}\")\n",
        "  print(f\"Test Size: {test_size}\")"
      ]
    }
  ],
  "metadata": {
    "kernelspec": {
      "display_name": "Python 3",
      "language": "python",
      "name": "python3"
    },
    "language_info": {
      "codemirror_mode": {
        "name": "ipython",
        "version": 3
      },
      "file_extension": ".py",
      "mimetype": "text/x-python",
      "name": "python",
      "nbconvert_exporter": "python",
      "pygments_lexer": "ipython3",
      "version": "3.8.16"
    },
    "orig_nbformat": 4,
    "vscode": {
      "interpreter": {
        "hash": "41726c00f8af6415b7e97fe0de2af4619339ec683c5d4082bc97233add9eed95"
      }
    }
  },
  "nbformat": 4,
  "nbformat_minor": 2
}
